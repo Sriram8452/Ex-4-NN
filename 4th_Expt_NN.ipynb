{
  "nbformat": 4,
  "nbformat_minor": 0,
  "metadata": {
    "colab": {
      "provenance": []
    },
    "kernelspec": {
      "name": "python3",
      "display_name": "Python 3"
    },
    "language_info": {
      "name": "python"
    }
  },
  "cells": [
    {
      "cell_type": "code",
      "execution_count": 1,
      "metadata": {
        "id": "4_Sk_hGuUiRi"
      },
      "outputs": [],
      "source": [
        "import pandas as pd\n",
        "from sklearn.model_selection import train_test_split\n",
        "from sklearn.preprocessing import StandardScaler\n",
        "from sklearn.neural_network import MLPClassifier\n",
        "from sklearn.metrics import classification_report\n",
        "from sklearn.metrics import confusion_matrix"
      ]
    },
    {
      "cell_type": "code",
      "source": [
        "url = 'https://archive.ics.uci.edu/ml/machine-learning-databases/iris/iris.data'\n",
        "arr = ['SepalLength', 'SepalWidth', 'PetalLength', 'PetalWidth', 'Species']\n",
        "df = pd.read_csv(url, names=arr)\n",
        "print(df.head())"
      ],
      "metadata": {
        "colab": {
          "base_uri": "https://localhost:8080/"
        },
        "id": "09I-9wfeM6I_",
        "outputId": "87d4a5c1-52c0-4a27-cbee-5084e54e3635"
      },
      "execution_count": 2,
      "outputs": [
        {
          "output_type": "stream",
          "name": "stdout",
          "text": [
            "   SepalLength  SepalWidth  PetalLength  PetalWidth      Species\n",
            "0          5.1         3.5          1.4         0.2  Iris-setosa\n",
            "1          4.9         3.0          1.4         0.2  Iris-setosa\n",
            "2          4.7         3.2          1.3         0.2  Iris-setosa\n",
            "3          4.6         3.1          1.5         0.2  Iris-setosa\n",
            "4          5.0         3.6          1.4         0.2  Iris-setosa\n"
          ]
        }
      ]
    },
    {
      "cell_type": "code",
      "source": [
        "a = df.iloc[:, 0:4]\n",
        "b = df.select_dtypes(include=[object])\n",
        "b = df.iloc[:,4:5]"
      ],
      "metadata": {
        "id": "Fzx4OP0ZM9Or"
      },
      "execution_count": 3,
      "outputs": []
    },
    {
      "cell_type": "code",
      "source": [
        "training_a, testing_a, training_b, testing_b = train_test_split(a, b, test_size = 0.25)\n",
        "myscaler = StandardScaler()\n",
        "myscaler.fit(training_a)\n",
        "training_a = myscaler.transform(training_a)\n",
        "testing_a = myscaler.transform(testing_a)\n",
        "m1 = MLPClassifier(hidden_layer_sizes=(12, 13, 14), activation='relu', solver='adam', max_iter=2500)\n",
        "m1.fit(training_a, training_b.values.ravel())\n",
        "predicted_values = m1.predict(testing_a)"
      ],
      "metadata": {
        "id": "o_7tlWyXNCgm"
      },
      "execution_count": 4,
      "outputs": []
    },
    {
      "cell_type": "code",
      "source": [
        "print(\"Sriram G\")\n",
        "print(\"212222230149\")\n",
        "print(confusion_matrix(testing_b,predicted_values))"
      ],
      "metadata": {
        "colab": {
          "base_uri": "https://localhost:8080/"
        },
        "id": "FYe8dyl7NFQF",
        "outputId": "07914813-f0cd-4b9d-ed55-847ec14e0fa1"
      },
      "execution_count": 7,
      "outputs": [
        {
          "output_type": "stream",
          "name": "stdout",
          "text": [
            "Sriram G\n",
            "212222230149\n",
            "[[13  1  0]\n",
            " [ 0 15  1]\n",
            " [ 0  0  8]]\n"
          ]
        }
      ]
    },
    {
      "cell_type": "code",
      "source": [
        "print(\"Sriram G\")\n",
        "print(\"212222230149\")\n",
        "print(classification_report(testing_b,predicted_values))"
      ],
      "metadata": {
        "colab": {
          "base_uri": "https://localhost:8080/"
        },
        "id": "H0UStXwONJEO",
        "outputId": "6fbcfe22-0077-4870-d48a-125cf64ea219"
      },
      "execution_count": 8,
      "outputs": [
        {
          "output_type": "stream",
          "name": "stdout",
          "text": [
            "Sriram G\n",
            "212222230149\n",
            "                 precision    recall  f1-score   support\n",
            "\n",
            "    Iris-setosa       1.00      0.93      0.96        14\n",
            "Iris-versicolor       0.94      0.94      0.94        16\n",
            " Iris-virginica       0.89      1.00      0.94         8\n",
            "\n",
            "       accuracy                           0.95        38\n",
            "      macro avg       0.94      0.96      0.95        38\n",
            "   weighted avg       0.95      0.95      0.95        38\n",
            "\n"
          ]
        }
      ]
    }
  ]
}